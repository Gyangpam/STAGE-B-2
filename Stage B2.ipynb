{
 "cells": [
  {
   "cell_type": "code",
   "execution_count": 16,
   "id": "491a626c",
   "metadata": {},
   "outputs": [
    {
     "name": "stdout",
     "output_type": "stream",
     "text": [
      "       Appliances  lights  Temperature in kitchen area, in Celsius  \\\n",
      "0              60      30                                19.890000   \n",
      "1              60      30                                19.890000   \n",
      "2              50      30                                19.890000   \n",
      "3              50      40                                19.890000   \n",
      "4              60      40                                19.890000   \n",
      "...           ...     ...                                      ...   \n",
      "19730         100       0                                25.566667   \n",
      "19731          90       0                                25.500000   \n",
      "19732         270      10                                25.500000   \n",
      "19733         420      10                                25.500000   \n",
      "19734         430      10                                25.500000   \n",
      "\n",
      "       Humidity in kitchen area  Temperature in living room area  \\\n",
      "0                     47.596667                        19.200000   \n",
      "1                     46.693333                        19.200000   \n",
      "2                     46.300000                        19.200000   \n",
      "3                     46.066667                        19.200000   \n",
      "4                     46.333333                        19.200000   \n",
      "...                         ...                              ...   \n",
      "19730                 46.560000                        25.890000   \n",
      "19731                 46.500000                        25.754000   \n",
      "19732                 46.596667                        25.628571   \n",
      "19733                 46.990000                        25.414000   \n",
      "19734                 46.600000                        25.264286   \n",
      "\n",
      "       Humidity in living room area  Temperature in laundry room area  \\\n",
      "0                         44.790000                         19.790000   \n",
      "1                         44.722500                         19.790000   \n",
      "2                         44.626667                         19.790000   \n",
      "3                         44.590000                         19.790000   \n",
      "4                         44.530000                         19.790000   \n",
      "...                             ...                               ...   \n",
      "19730                     42.025714                         27.200000   \n",
      "19731                     42.080000                         27.133333   \n",
      "19732                     42.768571                         27.050000   \n",
      "19733                     43.036000                         26.890000   \n",
      "19734                     42.971429                         26.823333   \n",
      "\n",
      "       Humidity in laundry room area  Temperature in office room  \\\n",
      "0                          44.730000                   19.000000   \n",
      "1                          44.790000                   19.000000   \n",
      "2                          44.933333                   18.926667   \n",
      "3                          45.000000                   18.890000   \n",
      "4                          45.000000                   18.890000   \n",
      "...                              ...                         ...   \n",
      "19730                      41.163333                   24.700000   \n",
      "19731                      41.223333                   24.700000   \n",
      "19732                      41.690000                   24.700000   \n",
      "19733                      41.290000                   24.700000   \n",
      "19734                      41.156667                   24.700000   \n",
      "\n",
      "       Humidity in office room  ...  Temperature in parents room  \\\n",
      "0                    45.566667  ...                    17.033333   \n",
      "1                    45.992500  ...                    17.066667   \n",
      "2                    45.890000  ...                    17.000000   \n",
      "3                    45.723333  ...                    17.000000   \n",
      "4                    45.530000  ...                    17.000000   \n",
      "...                        ...  ...                          ...   \n",
      "19730                45.590000  ...                    23.200000   \n",
      "19731                45.590000  ...                    23.200000   \n",
      "19732                45.730000  ...                    23.200000   \n",
      "19733                45.790000  ...                    23.200000   \n",
      "19734                45.963333  ...                    23.200000   \n",
      "\n",
      "       Humidity in parents room  \\\n",
      "0                       45.5300   \n",
      "1                       45.5600   \n",
      "2                       45.5000   \n",
      "3                       45.4000   \n",
      "4                       45.4000   \n",
      "...                         ...   \n",
      "19730                   46.7900   \n",
      "19731                   46.7900   \n",
      "19732                   46.7900   \n",
      "19733                   46.8175   \n",
      "19734                   46.8450   \n",
      "\n",
      "       Temperature outside (from Chievres weather station)  \\\n",
      "0                                                   6.60     \n",
      "1                                                   6.48     \n",
      "2                                                   6.37     \n",
      "3                                                   6.25     \n",
      "4                                                   6.13     \n",
      "...                                                  ...     \n",
      "19730                                              22.70     \n",
      "19731                                              22.60     \n",
      "19732                                              22.50     \n",
      "19733                                              22.30     \n",
      "19734                                              22.20     \n",
      "\n",
      "       Pressure from Chievres weather station  \\\n",
      "0                                       733.5   \n",
      "1                                       733.6   \n",
      "2                                       733.7   \n",
      "3                                       733.8   \n",
      "4                                       733.9   \n",
      "...                                       ...   \n",
      "19730                                   755.2   \n",
      "19731                                   755.2   \n",
      "19732                                   755.2   \n",
      "19733                                   755.2   \n",
      "19734                                   755.2   \n",
      "\n",
      "       Humidity outside (from Chievres weather station)  \\\n",
      "0                                             92.000000   \n",
      "1                                             92.000000   \n",
      "2                                             92.000000   \n",
      "3                                             92.000000   \n",
      "4                                             92.000000   \n",
      "...                                                 ...   \n",
      "19730                                         55.666667   \n",
      "19731                                         56.000000   \n",
      "19732                                         56.333333   \n",
      "19733                                         56.666667   \n",
      "19734                                         57.000000   \n",
      "\n",
      "       Wind speed from Chievres weather station)  \\\n",
      "0                                       7.000000   \n",
      "1                                       6.666667   \n",
      "2                                       6.333333   \n",
      "3                                       6.000000   \n",
      "4                                       5.666667   \n",
      "...                                          ...   \n",
      "19730                                   3.333333   \n",
      "19731                                   3.500000   \n",
      "19732                                   3.666667   \n",
      "19733                                   3.833333   \n",
      "19734                                   4.000000   \n",
      "\n",
      "       Visibility from Chievres weather station  \\\n",
      "0                                     63.000000   \n",
      "1                                     59.166667   \n",
      "2                                     55.333333   \n",
      "3                                     51.500000   \n",
      "4                                     47.666667   \n",
      "...                                         ...   \n",
      "19730                                 23.666667   \n",
      "19731                                 24.500000   \n",
      "19732                                 25.333333   \n",
      "19733                                 26.166667   \n",
      "19734                                 27.000000   \n",
      "\n",
      "        Tdewpoint from Chievres weather station  Random variable 1  \\\n",
      "0                                           5.3          13.275433   \n",
      "1                                           5.2          18.606195   \n",
      "2                                           5.1          28.642668   \n",
      "3                                           5.0          45.410390   \n",
      "4                                           4.9          10.084097   \n",
      "...                                         ...                ...   \n",
      "19730                                      13.3          43.096812   \n",
      "19731                                      13.3          49.282940   \n",
      "19732                                      13.3          29.199117   \n",
      "19733                                      13.2           6.322784   \n",
      "19734                                      13.2          34.118851   \n",
      "\n",
      "       Random variable 2  \n",
      "0              13.275433  \n",
      "1              18.606195  \n",
      "2              28.642668  \n",
      "3              45.410390  \n",
      "4              10.084097  \n",
      "...                  ...  \n",
      "19730          43.096812  \n",
      "19731          49.282940  \n",
      "19732          29.199117  \n",
      "19733           6.322784  \n",
      "19734          34.118851  \n",
      "\n",
      "[19735 rows x 28 columns]\n"
     ]
    }
   ],
   "source": [
    "import pandas as pd\n",
    "import seaborn as sns\n",
    "df=pd.read_csv('energydata_complete.csv')\n",
    "column_names={'T1': 'Temperature in kitchen area, in Celsius', 'RH_1': 'Humidity in kitchen area',\n",
    "\n",
    "'T2':'Temperature in living room area',\n",
    "\n",
    "'RH_2': 'Humidity in living room area',\n",
    "\n",
    "'T3':'Temperature in laundry room area',\n",
    "\n",
    "'RH_3': 'Humidity in laundry room area',\n",
    "\n",
    "'T4': 'Temperature in office room',\n",
    "\n",
    "'RH_4': 'Humidity in office room',\n",
    "\n",
    "'T5': 'Temperature in bathroom',\n",
    "\n",
    "'RH_5': 'Humidity in bathroom',\n",
    "\n",
    "'T6':'Temperature outside the building (north side)',\n",
    "\n",
    "'RH_6': 'Humidity outside the building (north side)',\n",
    "\n",
    "'T7': 'Temperature in ironing room',\n",
    "\n",
    "'RH_7': 'Humidity in ironing room',\n",
    "\n",
    "'T8': 'Temperature in teenager room 2',\n",
    "\n",
    "'RH_8':'Humidity in teenager room 2',\n",
    "\n",
    "'T9': 'Temperature in parents room',\n",
    "\n",
    "'RH_9': 'Humidity in parents room',\n",
    "\n",
    "'T_out': 'Temperature outside (from Chievres weather station)',\n",
    "\n",
    "'Press_mm_hg': 'Pressure from Chievres weather station',\n",
    "\n",
    "'RH_out': 'Humidity outside (from Chievres weather station)',\n",
    "\n",
    "'Windspeed': 'Wind speed from Chievres weather station)',\n",
    "\n",
    "'Visibility' :'Visibility from Chievres weather station',\n",
    "\n",
    "'Tdewpoint':' Tdewpoint from Chievres weather station',\n",
    "\n",
    "'rv1': 'Random variable 1', \n",
    "\n",
    "'rv2': 'Random variable 2'}\n",
    "df = df.rename(columns=column_names)\n",
    "df.drop('date', inplace=True, axis=1)\n",
    "print(df)"
   ]
  },
  {
   "cell_type": "code",
   "execution_count": 7,
   "id": "43febbf0",
   "metadata": {},
   "outputs": [
    {
     "name": "stdout",
     "output_type": "stream",
     "text": [
      "\n"
     ]
    }
   ],
   "source": []
  },
  {
   "cell_type": "code",
   "execution_count": 18,
   "id": "3b00d40d",
   "metadata": {},
   "outputs": [
    {
     "data": {
      "text/plain": [
       "<AxesSubplot:xlabel='Temperature in kitchen area, in Celsius', ylabel='Humidity in kitchen area'>"
      ]
     },
     "execution_count": 18,
     "metadata": {},
     "output_type": "execute_result"
    },
    {
     "data": {
      "image/png": "[encoded data removed]",
      "text/plain": [
       "<Figure size 432x288 with 1 Axes>"
      ]
     },
     "metadata": {
      "needs_background": "light"
     },
     "output_type": "display_data"
    }
   ],
   "source": [
    "simple_linear_reg_df = df[['Temperature in kitchen area, in Celsius', 'Humidity in kitchen area']].sample(15, random_state=2)\n",
    "#regression plot\n",
    "sns.regplot(x='Temperature in kitchen area, in Celsius', y='Humidity in kitchen area',data=simple_linear_reg_df)"
   ]
  },
  {
   "cell_type": "code",
   "execution_count": 20,
   "id": "50696e44",
   "metadata": {},
   "outputs": [
    {
     "data": {
      "text/plain": [
       "0.034"
      ]
     },
     "execution_count": 20,
     "metadata": {},
     "output_type": "execute_result"
    }
   ],
   "source": [
    "#Firstly, we normalise our dataset to a common scale using the min max scaler\n",
    "from sklearn.linear_model import LinearRegression\n",
    "from sklearn.preprocessing import MinMaxScaler\n",
    "scaler = MinMaxScaler()\n",
    "normalised_df = pd.DataFrame(scaler.fit_transform(df), columns=df.columns)\n",
    "features_df = normalised_df.drop(columns=['Temperature in kitchen area, in Celsius', 'Humidity in kitchen area'])\n",
    "heating_target = normalised_df['Temperature in kitchen area, in Celsius']\n",
    "#Now, we split our dataset into the training and testing dataset. Recall that we had earlier segmented the features and target variables.\n",
    "from sklearn.model_selection import train_test_split\n",
    "x_train, x_test, y_train, y_test = train_test_split(features_df, heating_target,\n",
    "test_size=0.3, random_state=1)\n",
    "linear_model = LinearRegression()\n",
    "#fit the model to the training dataset\n",
    "linear_model.fit(x_train, y_train)\n",
    "#obtain predictions\n",
    "predicted_values = linear_model.predict(x_test)\n",
    "#MAE\n",
    "from sklearn.metrics import mean_absolute_error\n",
    "mae = mean_absolute_error(y_test, predicted_values)\n",
    "round(mae, 3) "
   ]
  },
  {
   "cell_type": "code",
   "execution_count": 21,
   "id": "9056fff8",
   "metadata": {},
   "outputs": [
    {
     "data": {
      "text/plain": [
       "10.987"
      ]
     },
     "execution_count": 21,
     "metadata": {},
     "output_type": "execute_result"
    }
   ],
   "source": [
    "import numpy as np\n",
    "rss = np.sum(np.square(y_test - predicted_values))\n",
    "round(rss, 3)"
   ]
  },
  {
   "cell_type": "code",
   "execution_count": 22,
   "id": "8644624e",
   "metadata": {},
   "outputs": [
    {
     "data": {
      "text/plain": [
       "0.043"
      ]
     },
     "execution_count": 22,
     "metadata": {},
     "output_type": "execute_result"
    }
   ],
   "source": [
    "from sklearn.metrics import mean_squared_error\n",
    "rmse = np.sqrt(mean_squared_error(y_test, predicted_values))\n",
    "round(rmse, 3) "
   ]
  },
  {
   "cell_type": "code",
   "execution_count": 23,
   "id": "5f4c6a65",
   "metadata": {},
   "outputs": [
    {
     "data": {
      "text/plain": [
       "0.043"
      ]
     },
     "execution_count": 23,
     "metadata": {},
     "output_type": "execute_result"
    }
   ],
   "source": [
    "from sklearn.metrics import mean_squared_error\n",
    "rmse = np.sqrt(mean_squared_error(y_test, predicted_values))\n",
    "round(rmse, 3) "
   ]
  },
  {
   "cell_type": "code",
   "execution_count": 24,
   "id": "d53c2c7f",
   "metadata": {},
   "outputs": [
    {
     "data": {
      "text/plain": [
       "Ridge(alpha=0.5)"
      ]
     },
     "execution_count": 24,
     "metadata": {},
     "output_type": "execute_result"
    }
   ],
   "source": [
    "from sklearn.linear_model import Ridge\n",
    "ridge_reg = Ridge(alpha=0.5)\n",
    "ridge_reg.fit(x_train, y_train)"
   ]
  },
  {
   "cell_type": "code",
   "execution_count": 25,
   "id": "33e016de",
   "metadata": {},
   "outputs": [
    {
     "data": {
      "text/plain": [
       "Lasso(alpha=0.001)"
      ]
     },
     "execution_count": 25,
     "metadata": {},
     "output_type": "execute_result"
    }
   ],
   "source": [
    "from sklearn.linear_model import Lasso\n",
    "lasso_reg = Lasso(alpha=0.001)\n",
    "lasso_reg.fit(x_train, y_train)"
   ]
  },
  {
   "cell_type": "code",
   "execution_count": 27,
   "id": "afcddd90",
   "metadata": {},
   "outputs": [],
   "source": [
    "#comparing the effects of regularisation\n",
    "def get_weights_df(model, feat, col_name):\n",
    "#this function returns the weight of every feature\n",
    "    weights = pd.Series(linear_model.coef_, feat.columns).sort_values()\n",
    "    weights_df = pd.DataFrame(weights).reset_index()\n",
    "    weights_df.columns = ['Features', col_name]\n",
    "    weights_df[col_name].round(3)\n",
    "    return weights_df\n",
    "linear_model_weights = get_weights_df(linear_model, x_train, 'Linear_Model_Weight')\n",
    "ridge_weights_df = get_weights_df(ridge_reg, x_train, 'Ridge_Weight')\n",
    "lasso_weights_df = get_weights_df(lasso_reg, x_train, 'Lasso_weight')\n",
    "final_weights = pd.merge(linear_model_weights, ridge_weights_df, on='Features')\n",
    "final_weights = pd.merge(final_weights, lasso_weights_df, on='Features')"
   ]
  },
  {
   "cell_type": "code",
   "execution_count": 28,
   "id": "48a7ab76",
   "metadata": {},
   "outputs": [
    {
     "name": "stdout",
     "output_type": "stream",
     "text": [
      "                                             Features  Linear_Model_Weight  \\\n",
      "0       Temperature outside the building (north side)            -0.372465   \n",
      "1                         Temperature in parents room            -0.243418   \n",
      "2                       Humidity in laundry room area            -0.140485   \n",
      "3             Tdewpoint from Chievres weather station            -0.128019   \n",
      "4                         Humidity in teenager room 2            -0.057170   \n",
      "5                                          Appliances            -0.039941   \n",
      "6                                Humidity in bathroom            -0.020820   \n",
      "7                                   Random variable 1            -0.000462   \n",
      "8                                   Random variable 2            -0.000462   \n",
      "9            Visibility from Chievres weather station             0.000076   \n",
      "10                            Humidity in office room             0.000087   \n",
      "11                           Humidity in parents room             0.001716   \n",
      "12                                             lights             0.002166   \n",
      "13                           Humidity in ironing room             0.008815   \n",
      "14             Pressure from Chievres weather station             0.016732   \n",
      "15         Humidity outside the building (north side)             0.032266   \n",
      "16          Wind speed from Chievres weather station)             0.038365   \n",
      "17                        Temperature in ironing room             0.074467   \n",
      "18                         Temperature in office room             0.122210   \n",
      "19   Humidity outside (from Chievres weather station)             0.132608   \n",
      "20                            Temperature in bathroom             0.147614   \n",
      "21                       Humidity in living room area             0.187765   \n",
      "22                     Temperature in teenager room 2             0.244366   \n",
      "23                   Temperature in laundry room area             0.335854   \n",
      "24  Temperature outside (from Chievres weather sta...             0.470260   \n",
      "25                    Temperature in living room area             0.588437   \n",
      "\n",
      "    Ridge_Weight  Lasso_weight  \n",
      "0      -0.372465     -0.372465  \n",
      "1      -0.243418     -0.243418  \n",
      "2      -0.140485     -0.140485  \n",
      "3      -0.128019     -0.128019  \n",
      "4      -0.057170     -0.057170  \n",
      "5      -0.039941     -0.039941  \n",
      "6      -0.020820     -0.020820  \n",
      "7      -0.000462     -0.000462  \n",
      "8      -0.000462     -0.000462  \n",
      "9       0.000076      0.000076  \n",
      "10      0.000087      0.000087  \n",
      "11      0.001716      0.001716  \n",
      "12      0.002166      0.002166  \n",
      "13      0.008815      0.008815  \n",
      "14      0.016732      0.016732  \n",
      "15      0.032266      0.032266  \n",
      "16      0.038365      0.038365  \n",
      "17      0.074467      0.074467  \n",
      "18      0.122210      0.122210  \n",
      "19      0.132608      0.132608  \n",
      "20      0.147614      0.147614  \n",
      "21      0.187765      0.187765  \n",
      "22      0.244366      0.244366  \n",
      "23      0.335854      0.335854  \n",
      "24      0.470260      0.470260  \n",
      "25      0.588437      0.588437  \n"
     ]
    }
   ],
   "source": [
    "print(final_weights)"
   ]
  },
  {
   "cell_type": "code",
   "execution_count": null,
   "id": "a324b0a5",
   "metadata": {},
   "outputs": [],
   "source": []
  }
 ],
 "metadata": {
  "kernelspec": {
   "display_name": "Python 3 (ipykernel)",
   "language": "python",
   "name": "python3"
  },
  "language_info": {
   "codemirror_mode": {
    "name": "ipython",
    "version": 3
   },
   "file_extension": ".py",
   "mimetype": "text/x-python",
   "name": "python",
   "nbconvert_exporter": "python",
   "pygments_lexer": "ipython3",
   "version": "3.9.7"
  }
 },
 "nbformat": 4,
 "nbformat_minor": 5
}
